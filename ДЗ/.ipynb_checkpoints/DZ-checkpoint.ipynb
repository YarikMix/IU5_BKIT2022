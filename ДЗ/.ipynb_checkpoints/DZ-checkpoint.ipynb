{
 "cells": [
  {
   "cell_type": "code",
   "execution_count": 1,
   "id": "f00a6a06",
   "metadata": {},
   "outputs": [],
   "source": [
    "import requests\n",
    "import matplotlib.pyplot as plt"
   ]
  },
  {
   "cell_type": "code",
   "execution_count": 2,
   "id": "c9ba3e5f",
   "metadata": {},
   "outputs": [],
   "source": [
    "def get_data(n):\n",
    "\turl = \"http://127.0.0.1:5000/fibonacci?n=\" + str(n)\n",
    "\tr = requests.get(url)\n",
    "\treturn list(map(int, r.text.split(\" \")))\n"
   ]
  },
  {
   "cell_type": "code",
   "execution_count": null,
   "id": "9e68384d",
   "metadata": {},
   "outputs": [],
   "source": [
    "\tcnt_list = [5, 10, 15, 20]\n",
    "\tfor cnt in cnt_list:\n",
    "\t\tprint('{} первых чисел последовательности Фибоначчи: {}'.format(cnt, get_data(cnt)))\n"
   ]
  },
  {
   "cell_type": "code",
   "execution_count": null,
   "id": "45149520",
   "metadata": {},
   "outputs": [],
   "source": [
    "\t# Данные для графика\n",
    "\tn = 10\n",
    "\ty_10 = get_data(n)\n",
    "\tx_10 = list(range(1, n + 1))\n",
    "\n",
    "\tfig = plt.figure(figsize = (10, 5))\n",
    "\tplt.bar(x_10, y_10)\n",
    "\tplt.xlabel('Ось абсцисс')\n",
    "\tplt.ylabel('Ось ординат')\n",
    "\tplt.title('Первые {} чисел последовательности Фибоначчи'.format(n))\n",
    "\tplt.show()"
   ]
  },
  {
   "cell_type": "code",
   "execution_count": null,
   "id": "94087953",
   "metadata": {},
   "outputs": [],
   "source": []
  },
  {
   "cell_type": "code",
   "execution_count": null,
   "id": "f55a3f37",
   "metadata": {},
   "outputs": [],
   "source": []
  },
  {
   "cell_type": "code",
   "execution_count": null,
   "id": "b6c4d238",
   "metadata": {},
   "outputs": [],
   "source": []
  }
 ],
 "metadata": {
  "kernelspec": {
   "display_name": "Python 3 (ipykernel)",
   "language": "python",
   "name": "python3"
  },
  "language_info": {
   "codemirror_mode": {
    "name": "ipython",
    "version": 3
   },
   "file_extension": ".py",
   "mimetype": "text/x-python",
   "name": "python",
   "nbconvert_exporter": "python",
   "pygments_lexer": "ipython3",
   "version": "3.9.0"
  }
 },
 "nbformat": 4,
 "nbformat_minor": 5
}
